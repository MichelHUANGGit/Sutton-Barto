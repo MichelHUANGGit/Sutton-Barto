{
 "cells": [
  {
   "cell_type": "markdown",
   "metadata": {},
   "source": [
    "**Exercise 4.1** \n",
    "\n",
    "If $π$ is the equiprobable random policy, what is $q_π(11, down)$?\n",
    "What is $q_π(7, down)$?"
   ]
  },
  {
   "cell_type": "markdown",
   "metadata": {},
   "source": [
    "This is the value function $v_\\pi(s)$ associated to the equiprobable policy $\\pi$ :\n",
    "| 0.0 | -14. | -20. | -22. |\n",
    "|-----|------|------|------|\n",
    "| -14.| -18. | -20. | -20. |\n",
    "| -20.| -20. | -18. | -14. |\n",
    "| -22.| -20. | -14. | -0.0 |\n",
    "\n",
    "To compute $q_π(11, down)$ and $q_π(7, down)$, we can use the relation between $q_\\pi(s,a)$ and $v_\\pi(s)$ :\n",
    "\\begin{equation}\n",
    "    q_\\pi(s,a) = \\sum_{s',r} p(s',r|s,a) (r + \\gamma v_\\pi(s'))\n",
    "\\end{equation}"
   ]
  },
  {
   "cell_type": "markdown",
   "metadata": {},
   "source": [
    "In our case, actions deterministically determine the next state (i.e. the transitions $p(s'|s,a)$ are deterministic), the rewards are also deterministic, always -1 for all non-terminal states. So, $q_\\pi(11,down)$ is simply :\n",
    "\n",
    "\\begin{aligned}\n",
    "    q_\\pi(11,down) &= p(S_T|11,down) (0 + \\gamma v_\\pi(S_T)) \\\\\n",
    "    &= 1 \\times 0 \\\\\n",
    "    &= 0\n",
    "\\end{aligned}\n",
    "\n",
    "where $S_T$ is the terminal state"
   ]
  },
  {
   "cell_type": "markdown",
   "metadata": {},
   "source": [
    "And for $q_\\pi(7,down)$ :\n",
    "\n",
    "\\begin{aligned}\n",
    "    q_\\pi(7,down) &= p(11|7,down) (-1 + \\gamma v_\\pi(11)) \\\\\n",
    "    &= 1 \\times (-1 + (-14)) \\\\\n",
    "    &= -15\n",
    "\\end{aligned}"
   ]
  },
  {
   "cell_type": "markdown",
   "metadata": {},
   "source": [
    "**Exercise 4.2**\n",
    "\n",
    "Suppose a new state 15 is added to the gridworld just below\n",
    "state 13, and its actions, left, up, right, and down, take the agent to states\n",
    "12, 13, 14, and 15, respectively. Assume that the transitions from the original\n",
    "states are unchanged. What, then, is $v_π(15)$ for the equiprobable random\n",
    "policy?\n"
   ]
  },
  {
   "attachments": {
    "image.png": {
     "image/png": "[encoded data removed]"
    }
   },
   "cell_type": "markdown",
   "metadata": {},
   "source": [
    "![image.png](attachment:image.png)"
   ]
  },
  {
   "cell_type": "markdown",
   "metadata": {},
   "source": [
    "Using the Bellman equation : \n",
    "\\begin{aligned}\n",
    "    v_\\pi(15) &= 0.25 (-1 + v_\\pi(12)) + 0.25 (-1 + v_\\pi(13)) + 0.25 (-1 + v_\\pi(14)) + 0.25 (-1 + v_\\pi(15)) \\\\\n",
    "    &= 0.25 \\times (-1 -22) + 0.25 (-1 -20) + 0.25 (-1 -14) + 0.25 (-1 + v_\\pi(15)) \\\\\n",
    "    &= -\\frac{23}{4} - \\frac{21}{4} - \\frac{15}{4} - \\frac{1}{4} + \\frac{v_\\pi(15)}{4} \\\\\n",
    "    \\Leftrightarrow \\frac{3 v_\\pi(15)}{4} &= -\\frac{60}{4} \\\\\n",
    "     \\Leftrightarrow v_\\pi(15) &= -20\n",
    "\\end{aligned}"
   ]
  },
  {
   "cell_type": "markdown",
   "metadata": {},
   "source": [
    "Now suppose the dynamics of state 13 are also changed, such that\n",
    "action down from state 13 takes the agent to the new state 15. What is $v_π(15)$\n",
    "for the equiprobable random policy in this case?"
   ]
  },
  {
   "cell_type": "markdown",
   "metadata": {},
   "source": [
    "We can write the bellman equation for $v_\\pi(13)$ and $v_\\pi(15)$ as a linear system of 2 equations and 2 unknowns : \n",
    "\\begin{aligned}\n",
    "    v_\\pi(13) &= \\frac{-1 + v_\\pi(12)}{4} - \\frac{-1 + v_\\pi(9)}{4} - \\frac{-1 + v_\\pi(14)}{4} - \\frac{-1 + v_\\pi(15)}{4} \\\\\n",
    "    v_\\pi(15) &= \\frac{-1 + v_\\pi(12)}{4} - \\frac{-1 + v_\\pi(13)}{4} - \\frac{-1 + v_\\pi(14)}{4} - \\frac{-1 + v_\\pi(15)}{4} \\\\\n",
    "    \\Leftrightarrow v_\\pi(13) &= -\\frac{23}{4} - \\frac{21}{4} - \\frac{15}{4} -  \\frac{-1 + v_\\pi(15)}{4} \\\\\n",
    "    v_\\pi(15) &= -\\frac{23}{4} - \\frac{-1 + v_\\pi(13)}{4} - \\frac{15}{4} -  \\frac{-1 + v_\\pi(15)}{4} \\\\\n",
    "    \\Leftrightarrow v_\\pi(13) &= -15 + \\frac{v_\\pi(15)}{4} \\\\\n",
    "    3v_\\pi(15) &= -40  + {v_\\pi(13)} \\\\\n",
    "    \\Leftrightarrow v_\\pi(13) &= -15 + \\frac{v_\\pi(15)}{4} \\\\\n",
    "    3v_\\pi(15) &= -40  - 15 + \\frac{v_\\pi(15)}{4} \\\\\n",
    "    \\Leftrightarrow v_\\pi(13) &= -15 + \\frac{v_\\pi(15)}{4} \\\\\n",
    "    \\frac{11v_\\pi(15)}{4} &= -55 \\\\\n",
    "    \\Leftrightarrow v_\\pi(13) &= -20 \\\\\n",
    "    v_\\pi(15) &= -20 \n",
    "\\end{aligned}"
   ]
  },
  {
   "cell_type": "markdown",
   "metadata": {},
   "source": [
    "**Exercise 4.3**\n",
    "\n",
    "What are the equations analogous to (4.3), (4.4), and (4.5) for\n",
    "the action-value function $q_π$ and its successive approximation by a sequence of\n",
    "functions $q_0, q_1, q_2$, . . . ?\n"
   ]
  },
  {
   "cell_type": "markdown",
   "metadata": {},
   "source": [
    "\\begin{aligned}\n",
    "    q_\\pi(s,a) &= \\sum_{s',r} p(s',r|s,a) \\sum_{a'} \\pi(a'|s') \\Bigr[ r+\\gamma q_\\pi(s',a') \\Bigr]\n",
    "\\end{aligned}\n",
    "\n",
    "And therefore :\n",
    "\n",
    "\\begin{aligned}\n",
    "    q_{k+1}(s,a) &= \\sum_{s',r} p(s',r|s,a) \\sum_{a'} \\pi(a'|s') \\Bigr[ r+\\gamma q_k(s',a') \\Bigr]\n",
    "\\end{aligned}"
   ]
  },
  {
   "cell_type": "markdown",
   "metadata": {},
   "source": [
    "**Exercise 4.4** \n",
    "\n",
    "In some undiscounted episodic tasks there may be policies\n",
    "for which eventual termination is not guaranteed. For example, in the grid\n",
    "problem above it is possible to go back and forth between two states forever.\n",
    "In a task that is otherwise perfectly sensible, $v_π(s)$ may be negative infinity\n",
    "for some policies and states, in which case the algorithm for iterative policy\n",
    "evaluation given in Figure 4.1 will not terminate. As a purely practical matter,\n",
    "how might we amend this algorithm to assure termination even in this case?\n",
    "Assume that eventual termination is guaranteed under the optimal policy."
   ]
  },
  {
   "cell_type": "markdown",
   "metadata": {},
   "source": [
    "Ideas :\n",
    "- Slightly change the policy to an $\\varepsilon$-greedy policy such that it has a small chance $\\varepsilon$ to teleport randomly to another state\n",
    "- "
   ]
  },
  {
   "cell_type": "markdown",
   "metadata": {},
   "source": [
    "**Exercise 4.5 (programming)**\n",
    "\n",
    "Write a program for policy iteration and\n",
    "re-solve Jack’s car rental problem with the following changes. One of Jack’s\n",
    "employees at the first location rides a bus home each night and lives near\n",
    "the second location. She is happy to shuttle one car to the second location\n",
    "for free. Each additional car still costs $2, as do all cars moved in the other\n",
    "direction. In addition, Jack has limited parking space at each location. If\n",
    "more than 10 cars are kept overnight at a location (after any moving of cars),\n",
    "then an additional cost of $4 must be incurred to use a second parking lot\n",
    "(independent of how many cars are kept there). These sorts of nonlinearities\n",
    "and arbitrary dynamics often occur in real problems and cannot easily be\n",
    "handled by optimization methods other than dynamic programming. To check\n",
    "your program, first replicate the results given for the original problem. If your\n",
    "computer is too slow for the full problem, cut all the numbers of cars in half."
   ]
  },
  {
   "cell_type": "markdown",
   "metadata": {},
   "source": []
  },
  {
   "cell_type": "markdown",
   "metadata": {},
   "source": []
  },
  {
   "cell_type": "markdown",
   "metadata": {},
   "source": []
  },
  {
   "cell_type": "markdown",
   "metadata": {},
   "source": []
  },
  {
   "cell_type": "markdown",
   "metadata": {},
   "source": []
  },
  {
   "cell_type": "markdown",
   "metadata": {},
   "source": []
  },
  {
   "cell_type": "markdown",
   "metadata": {},
   "source": []
  },
  {
   "cell_type": "markdown",
   "metadata": {},
   "source": []
  },
  {
   "cell_type": "markdown",
   "metadata": {},
   "source": []
  },
  {
   "cell_type": "markdown",
   "metadata": {},
   "source": []
  },
  {
   "cell_type": "markdown",
   "metadata": {},
   "source": []
  }
 ],
 "metadata": {
  "language_info": {
   "name": "python"
  }
 },
 "nbformat": 4,
 "nbformat_minor": 2
}
