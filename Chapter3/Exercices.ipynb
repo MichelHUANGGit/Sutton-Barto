{
 "cells": [
  {
   "cell_type": "markdown",
   "metadata": {},
   "source": [
    "**Exercise 3.1** \n",
    "\n",
    "Devise three example tasks of your own that fit into the reinforcement learning framework, identifying for each its states, actions, and\n",
    "rewards. Make the three examples as different from each other as possible.\n",
    "The framework is abstract and flexible and can be applied in many different\n",
    "ways. Stretch its limits in some way in at least one of your examples."
   ]
  },
  {
   "cell_type": "markdown",
   "metadata": {},
   "source": [
    "**An RL agent that plays Pokemon, say Pokemon Emerald gameboy version. This would correspond to a infinite MDP.**\n",
    "- Its states would be the image of the gameboy screen at a given time (which is very large)\n",
    "- The actions are the buttons on the gameboy\n",
    "- And the rewards would be whatever we decide them to be (e.g. +10 for completing an arena, +1 for beating a pokemon, -5 for losing ...)\n",
    "\n",
    "The actions only depend on the current state.\n",
    "  "
   ]
  },
  {
   "cell_type": "markdown",
   "metadata": {},
   "source": [
    "**The case of a Retail store, the agent is in charge of ordering stocks and maintaining the warehouse :** <br>\n",
    "  - The states could be the observation of the demand, say every hour, and the current stock available (both in the warehouse and on sale). It could also contain information about the day of the week and the hour itself. <br>\n",
    "  - The actions would be how much stock the agent orders for each type of item the store sells. <br>\n",
    "  - The rewards would be benefits/losses of selling and ordering stocks. <br>\n",
    "\n",
    "It is almost an MDP, because the actions the agent selects mostly depend on the current state, but one could argue that it could also depend on the past. If there was an enormously large demand the last 48 hours, maybe this information could be useful to decide what to do next ?"
   ]
  },
  {
   "cell_type": "markdown",
   "metadata": {},
   "source": []
  },
  {
   "cell_type": "markdown",
   "metadata": {},
   "source": [
    "**Exercise 3.2** \n",
    "\n",
    "Is the reinforcement learning framework adequate to usefully represent all goal-directed learning tasks? Can you think of any clear exceptions?\n"
   ]
  },
  {
   "cell_type": "markdown",
   "metadata": {},
   "source": []
  },
  {
   "cell_type": "markdown",
   "metadata": {},
   "source": [
    "**Exercise 3.3** \n",
    "\n",
    "Consider the problem of driving. You could define the actions\n",
    "in terms of the accelerator, steering wheel, and brake, that is, where your\n",
    "body meets the machine. Or you could define them farther out—say, where\n",
    "the rubber meets the road, considering your actions to be tire torques. Or\n",
    "you could define them farther in—say, where your brain meets your body, the\n",
    "actions being muscle twitches to control your limbs. Or you could go to a\n",
    "really high level and say that your actions are your choices of where to drive.\n",
    "What is the right level, the right place to draw the line between agent and\n",
    "environment? On what basis is one location of the line to be preferred over\n",
    "another? Is there any fundamental reason for preferring one location over\n",
    "another, or is it a free choice?"
   ]
  },
  {
   "cell_type": "markdown",
   "metadata": {},
   "source": [
    "It moslty depends on what our goal is when formalizing the problem :\n",
    "- If our goal was to create autonomous cars without an actual robot controlling the wheel, then we could define the actions as in the embodiment of the car. That means the agent could take control of the car's engine to accelerate, decelerate, rotate the tires etc... by accessing the engine directly, not by using the brake/accelerator/steering wheel.\n",
    "- If our goal is to create a robot that drives autonomously a car, then we could define the actions as all that control the robot's limbs, and therefore movements.\n",
    "- On the other hand, a GPS simply dictates on a higher level what path the car should follow.\n",
    "\n",
    "Where to place that line also depends on the complexity of solving the corresponding reinforcement learning problem. A GPS's decisions is certainly simpler to learn than learning to drive an autonomous car."
   ]
  },
  {
   "cell_type": "markdown",
   "metadata": {},
   "source": [
    "**Exercise 3.4** \n",
    "\n",
    "Suppose you treated pole-balancing as an episodic task but\n",
    "also used discounting, with all rewards zero except for −1 upon failure. What\n",
    "then would the return be at each time? How does this return differ from that\n",
    "in the discounted, continuing formulation of this task?\n"
   ]
  },
  {
   "cell_type": "markdown",
   "metadata": {},
   "source": [
    "*The return of episode i, at timestep t, $G_t^i$, would be $\\gamma^0 R_{t+1}^i + \\gamma^1 R_{t+2}^i + ... + \\gamma^{\\tau-t} R_{t+\\tau}^i = -\\gamma^{\\tau-t}$ where $\\tau$ is the timestep at which the failure happens.* <br>"
   ]
  },
  {
   "cell_type": "markdown",
   "metadata": {},
   "source": [
    "In the continuing formulation of this task, assuming the pole is reset to vertical after each failure and task keeps going after, <br>\n",
    "then the return would be $G_t = -\\gamma^{\\tau_1 - t} -\\gamma^{\\tau_2 - t} - \\gamma^{\\tau_3 - t} - ... -\\gamma^{\\tau_k - t}$ where $\\tau_k$ is the timestep at which failure k happens. <br>\n",
    "\n",
    "The difference from the episodic case, is that the discount factors are not reset after each failure, making it less penalizing to have a failure after having started long ago."
   ]
  },
  {
   "cell_type": "markdown",
   "metadata": {},
   "source": [
    "**Exercise 3.5** \n",
    "\n",
    "Imagine that you are designing a robot to run a maze. You decide to give it a reward of +1 for escaping from the maze and a reward of zero\n",
    "at all other times. The task seems to break down naturally into episodes—the\n",
    "successive runs through the maze—so you decide to treat it as an episodic task,\n",
    "where the goal is to maximize expected total reward (3.1). After running the\n",
    "learning agent for a while, you find that it is showing no improvement in escaping from the maze. What is going wrong? Have you effectively communicated\n",
    "to the agent what you want it to achieve?"
   ]
  },
  {
   "cell_type": "markdown",
   "metadata": {},
   "source": [
    "(Assuming no discounting)\n",
    "\n",
    "Whether the agent takes 10 steps to escape the maze or 1 000 000 steps, it'll earn a reward of +1 for escaping in this setup. The reward doesn't encourage the robot to escape the maze faster. This could be the reason why the robot shows no signs of improvement, during its training, it might take 10 000 000 steps before escaping, thus receiving a positive signal which makes the learning process really slow..."
   ]
  },
  {
   "cell_type": "markdown",
   "metadata": {},
   "source": [
    "(Assuming discounting)\n",
    "\n",
    "If there is discounting, the faster the robot escapes the maze, the more reward it'll earn. But during its training, if it took 1 000 000 steps to escape, then it'll get a positive, but very close to 0 reward. This doesn't reinforce the positive signal it should get for escaping the maze, hence making the training slow again."
   ]
  },
  {
   "cell_type": "markdown",
   "metadata": {},
   "source": [
    "**Exercise 3.6: Broken Vision System**\n",
    "\n",
    "Imagine that you are a vision\n",
    "system. When you are first turned on for the day, an image floods into your\n",
    "camera. You can see lots of things, but not all things. You can’t see objects\n",
    "that are occluded, and of course you can’t see objects that are behind you.\n",
    "After seeing that first scene, do you have access to the Markov state of the\n",
    "environment?"
   ]
  },
  {
   "cell_type": "markdown",
   "metadata": {},
   "source": [
    "The *environment state* is defined as whatever information is available to the agent. It is said to be *Markov* if it retains all past relevant information for the agent all the past information. It is, in a way, summarized in a compact way into the current state. Here the fact that the Vision System doesn't see objects that are occluded and objects that are behind the System do not violate the definition of the *environment state*. However is it not a Markov state, because it doesn't include past informations, the system doesn't know anyting about what the images were before being turned on for the day."
   ]
  },
  {
   "cell_type": "markdown",
   "metadata": {},
   "source": [
    "Suppose your camera was broken that day and you received no images at all, all day. Would you have access to the Markov state then?"
   ]
  },
  {
   "cell_type": "markdown",
   "metadata": {},
   "source": [
    "In this case yes, because the information that there is no image received compactly summarizes the past informations : the camera has been broken all day."
   ]
  },
  {
   "cell_type": "markdown",
   "metadata": {},
   "source": [
    "**Exercise 3.8**\n",
    "\n",
    "What is the Bellman equation for action values, that is, for $q_π$?\n",
    "It must give the action value $q_π(s,a)$ in terms of the action values, $q_π(s',a')$\n",
    "of possible successors to the state–action pair (s, a). As a hint, the backup\n",
    "diagram corresponding to this equation is given in Figure 3.4b. Show the\n",
    "sequence of equations analogous to (3.12), but for action values."
   ]
  },
  {
   "cell_type": "markdown",
   "metadata": {},
   "source": [
    "\\begin{aligned}\n",
    "    q_\\pi(s,a) &:= \\mathbb{E_\\pi} \\Bigr[ G_t \\ | \\ S_t=s, A_t=a \\Bigr] \\\\\n",
    "    &= \\mathbb{E}_\\pi \\Bigr[R_{t+1} + \\gamma \\sum_{k=0}^{\\infty} \\gamma^k R_{t+k+2} \\ | \\ S_t=s, A_t=a \\Bigr] \\\\\n",
    "    (\\text{tower property + Markov}) &= \\mathbb{E}_\\pi \\Bigr[ R_{t+1} + \\gamma \\mathbb{E}_\\pi \\bigr[\\sum_{k=0}^{\\infty} \\gamma^k R_{t+k+2} \\ | \\ A_{t+1}, S_{t+1} \\bigr] \\ | \\ S_t = s, A_t=a\\Bigr] \\\\ \n",
    "    &= \\mathbb{E}_\\pi \\Bigr[ R_{t+1} + \\gamma q_\\pi(S_{t+1},A_{t+1}) \\ | \\ S_t = s, A_t=a \\Bigr] \\\\ \n",
    "    &= \\sum_{s',r,a'} \\mathbb{P}(R_{t+1} = r, q_\\pi(S_{t+1},A_{t+1}) = q_\\pi(s',a') \\bigr| S_t=s, A_t=a) \\Bigr[ r+\\gamma q_\\pi(s',a') \\Bigr] \\\\\n",
    "    &= \\sum_{s',r,a'} \\mathbb{P}(S_{t+1} = s', R_{t+1} = r, A_{t+1} = a' \\bigr| S_t=s,A_t=a) \\Bigr[ r+\\gamma q_\\pi(s',a') \\Bigr] \\\\\n",
    "    (\\text{*}) &= \\sum_{s',r} \\sum_{a'} \\mathbb{P}(A_{t+1}=a' \\bigr| S_{t+1}=s',R_{t+1}=r) \\ \\mathbb{P}(S_{t+1} = s', R_{t+1} = r \\bigr| S_t=s,A_t=a) \\Bigr[ r+\\gamma q_\\pi(s',a') \\Bigr] \\\\\n",
    "    q_\\pi(s,a) &= \\sum_{s',r} p(s',r|s,a) \\sum_{a'} \\pi(a'|s') \\Bigr[ r+\\gamma q_\\pi(s',a') \\Bigr]\n",
    "\\end{aligned}"
   ]
  },
  {
   "cell_type": "markdown",
   "metadata": {},
   "source": [
    "**Exercise 3.9**\n",
    "\n",
    "The Bellman equation (3.12) must hold for each state for the\n",
    "value function $v_π$ shown in Figure 3.5b. As an example, show numerically that\n",
    "this equation holds for the center state, valued at +0.7, with respect to its four\n",
    "neighboring states, valued at +2.3, +0.4, −0.4, and +0.7. (These numbers are\n",
    "accurate only to one decimal place.)"
   ]
  },
  {
   "cell_type": "markdown",
   "metadata": {},
   "source": [
    "Recall the bellman equation for the state value : \n",
    "\\begin{equation*}\n",
    "    v_\\pi(s) = \\sum_a \\pi(a|s) \\sum_r \\sum_{s'} p(s',r|s,a) \\Bigr[ r+\\gamma v_\\pi(s') \\Bigr]\n",
    "\\end{equation*}"
   ]
  },
  {
   "cell_type": "markdown",
   "metadata": {},
   "source": [
    "- The policy is 25% chance of going up, down, left, right which means $\\pi(a|center)=0.25 \\ \\forall a \\in$ {left,right,up,down}. <br>\n",
    "- At the center cell, the reward is $r=0$. <br>\n",
    "- The transition probabilities are $p(s',r|s,a)=1$ when s' is the state corresponding to taking action a in state s, 0 otherwise. (In other words, at the center, when the agent chooses to move a certain direction, it'll move this direction with probability 1). <br>\n",
    "- $\\gamma = 0.9$"
   ]
  },
  {
   "cell_type": "markdown",
   "metadata": {},
   "source": [
    "So the value at the center is :"
   ]
  },
  {
   "cell_type": "code",
   "execution_count": 4,
   "metadata": {},
   "outputs": [
    {
     "name": "stdout",
     "output_type": "stream",
     "text": [
      "{'up': 2.3, 'right': 0.4, 'down': -0.4, 'left': 0.7}\n",
      "{'up': 0.25, 'right': 0.25, 'down': 0.25, 'left': 0.25}\n",
      "Value at the center : 0.6749999999999999\n"
     ]
    }
   ],
   "source": [
    "gamma = 0.9\n",
    "actions = [\"up\", \"right\", \"down\", \"left\"]\n",
    "neighbour_values = dict(zip(actions, [2.3,0.4,-0.4,0.7]))\n",
    "print(neighbour_values)\n",
    "pi = dict(zip(actions, [0.25,0.25,0.25,0.25]))\n",
    "print(pi)\n",
    "transition = 1\n",
    "r = 0\n",
    "\n",
    "print(\"Value at the center :\", sum([pi[action] * transition * (r + gamma * neighbour_values[action]) for action in actions]))"
   ]
  },
  {
   "cell_type": "markdown",
   "metadata": {},
   "source": [
    "**Exercise 3.10**\n",
    "\n",
    "In the gridworld example, rewards are positive for goals,\n",
    "negative for running into the edge of the world, and zero the rest of the time.\n",
    "Are the signs of these rewards important, or only the intervals between them?"
   ]
  },
  {
   "cell_type": "markdown",
   "metadata": {},
   "source": [
    "To obtain the optimal policy, we could have defined the following rewards : \n",
    "0 for running into the edge of the world, +11 and +6 to the states A and B respectively, +1 for every other state.\n",
    "The result would essentially be the same as the agent would still try to do more good actions, and less relatively bad actions"
   ]
  },
  {
   "cell_type": "markdown",
   "metadata": {},
   "source": [
    "Prove, using (3.2), that adding a constant c to all the rewards adds a constant,\n",
    "$v_c$, to the values of all states, and thus does not affect the relative values of\n",
    "any states under any policies. What is $v_c$ in terms of c and $γ$?"
   ]
  },
  {
   "cell_type": "markdown",
   "metadata": {},
   "source": [
    "Let $\\bar{R}_t = R_t + c$, then :\n",
    "\\begin{aligned}\n",
    "    \\bar{G}_t &:= \\sum_k \\gamma^k \\bar{R}_{t+1+k} \\\\\n",
    "    &= \\sum_k \\gamma^k (c+R_{t+1})\n",
    "\\end{aligned}\n",
    "\n",
    "and \n",
    "\n",
    "\\begin{aligned}\n",
    "    \\forall s \\in \\mathcal{S}, \\ \\bar{v}_\\pi(s) &:= \\mathbb{E} \\Bigr[ \\sum_k \\gamma^k (c+R_{t+1}) \\bigr| S_t=s \\Bigr] \\\\\n",
    "    &= \\sum_k \\gamma^k c + \\mathbb{E} \\Bigr[ \\sum_k \\gamma^k R_{t+1} \\bigr| S_t=s \\Bigr] \\\\\n",
    "    \\bar{v}_\\pi(s) &= v_c + v_\\pi(s)\n",
    "\\end{aligned}\n",
    "\n",
    "The expression of $v_c$\n",
    "\\begin{aligned}\n",
    "    v_c &= c \\sum_k \\gamma^k \\\\\n",
    "    &= \\frac{c}{(1-\\gamma)}\n",
    "\\end{aligned}"
   ]
  },
  {
   "cell_type": "markdown",
   "metadata": {},
   "source": [
    "**Exercise 3.11**\n",
    "\n",
    "Now consider adding a constant c to all the rewards in an\n",
    "episodic task, such as maze running. Would this have any effect, or would it\n",
    "leave the task unchanged as in the continuing task above? Why or why not?\n",
    "Give an example."
   ]
  },
  {
   "cell_type": "markdown",
   "metadata": {},
   "source": [
    "In an episodic task, the return suddenly is no longer the sum up to an infinite timestep, but rather stops at the terminal timestep $\\tau$ <br>\n",
    "And since $\\tau$ is stochastic, it may be different from one trajectory to another, creating different values of $v_c$ depending on the length of that trajectory. In the episodic case :\n",
    "\\begin{aligned}\n",
    "    v_c &= c \\sum_{k=0}^{\\tau} \\gamma^k \\\\\n",
    "    &= c \\frac{1 - \\gamma^{\\tau}}{1-\\gamma}\n",
    "\\end{aligned}"
   ]
  },
  {
   "cell_type": "markdown",
   "metadata": {},
   "source": [
    "Typically for states that are closer to the terminal states, then $v_c$ would be lower because they are more likely to end earlier. <br>\n",
    "On the other hand, for states that are far away from terminal states, then their $v_c$ would be larger"
   ]
  },
  {
   "attachments": {
    "image.png": {
     "image/png": "[encoded data removed]"
    }
   },
   "cell_type": "markdown",
   "metadata": {},
   "source": [
    "**Exercise 3.12**\n",
    "\n",
    "The value of a state depends on the the values of the actions\n",
    "possible in that state and on how likely each action is to be taken under the\n",
    "current policy. We can think of this in terms of a small backup diagram rooted\n",
    "at the state and considering each possible action:\n",
    "\n",
    "![image.png](attachment:image.png)\n",
    "\n",
    "Give the equation corresponding to this intuition and diagram for the value at\n",
    "the root node, $v_π(s)$, in terms of the value at the expected leaf node, $q_π(s, a)$,\n",
    "given $S_t = s$. This expectation depends on the policy, $π$. "
   ]
  },
  {
   "cell_type": "markdown",
   "metadata": {},
   "source": [
    "\\begin{equation*}\n",
    "    v_\\pi(s) = \\mathbb{E_\\pi} \\Bigr[ q_\\pi(s,A_t) | S_t=s \\Bigr]\n",
    "\\end{equation*}"
   ]
  },
  {
   "cell_type": "markdown",
   "metadata": {},
   "source": [
    "Then give a second equation in which the expected value is written out explicitly in terms of $π(a|s)$\n",
    "such that no expected value notation appears in the equation."
   ]
  },
  {
   "cell_type": "markdown",
   "metadata": {},
   "source": [
    "\\begin{align*}\n",
    "    v_\\pi(s) &= \\sum_a \\mathbb{P}(A_t=a|S_t=s) q_\\pi(s,a) \\\\\n",
    "    &= \\sum_a \\pi(a|s) q_\\pi(s,a)\n",
    "\\end{align*}"
   ]
  },
  {
   "attachments": {
    "image.png": {
     "image/png": "[encoded data removed]"
    }
   },
   "cell_type": "markdown",
   "metadata": {},
   "source": [
    "**Exercise 3.13**\n",
    "\n",
    "The value of an action, $q_π(s, a)$, depends on the expected\n",
    "next reward and the expected sum of the remaining rewards. Again we can think of this in terms of a small backup diagram, this one rooted at an action (state–action pair) and branching to the possible next states:\n",
    "![image.png](attachment:image.png)\n",
    "\n",
    "Give the equation corresponding to this intuition and diagram for the action\n",
    "value, $q_π(s, a)$, in terms of the expected next reward, $R_{t+1}$, and the expected\n",
    "next state value, $v_π(S_{t+1})$, given that $S_t = s$ and $A_t = a$."
   ]
  },
  {
   "cell_type": "markdown",
   "metadata": {},
   "source": [
    "\\begin{aligned}\n",
    "    q_\\pi(s,a) &= \\mathbb{E_\\pi} \\Bigr[ R_{t+1} + \\gamma v_\\pi(S_{t+1}) \\ | \\ S_t=s,A_t=a \\Bigr]\n",
    "\\end{aligned}"
   ]
  },
  {
   "cell_type": "markdown",
   "metadata": {},
   "source": [
    "Then give a second\n",
    "equation, writing out the expected value explicitly in terms of $p(s', r|s, a)$\n",
    "defined by (3.6), such that no expected value notation appears in the equation."
   ]
  },
  {
   "cell_type": "markdown",
   "metadata": {},
   "source": [
    "\\begin{aligned}\n",
    "    q_\\pi(s,a) &= \\sum_{s',r} p(s',r|s,a) \\Bigr[ r + \\gamma v_\\pi(s') \\Bigr]\n",
    "\\end{aligned}"
   ]
  },
  {
   "cell_type": "markdown",
   "metadata": {},
   "source": [
    "**Exercise 3.14**\n",
    "\n",
    " Draw or describe the optimal state-value function for the golf\n",
    "example"
   ]
  },
  {
   "cell_type": "markdown",
   "metadata": {},
   "source": []
  },
  {
   "cell_type": "markdown",
   "metadata": {},
   "source": [
    "**Exercise 3.15** \n",
    "\n",
    "Draw or describe the contours of the optimal action-value\n",
    "function for putting, q∗(s, putter), for the golf example."
   ]
  },
  {
   "cell_type": "markdown",
   "metadata": {},
   "source": [
    "**Exercise 3.16**\n",
    "\n",
    "Give the Bellman equation for q∗ for the recycling robot."
   ]
  }
 ],
 "metadata": {
  "kernelspec": {
   "display_name": "Python 3",
   "language": "python",
   "name": "python3"
  },
  "language_info": {
   "codemirror_mode": {
    "name": "ipython",
    "version": 3
   },
   "file_extension": ".py",
   "mimetype": "text/x-python",
   "name": "python",
   "nbconvert_exporter": "python",
   "pygments_lexer": "ipython3",
   "version": "3.12.2"
  }
 },
 "nbformat": 4,
 "nbformat_minor": 2
}
