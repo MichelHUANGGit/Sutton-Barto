{
 "cells": [
  {
   "cell_type": "markdown",
   "metadata": {},
   "source": [
    "### detailed proof of equation (3.12) :\n",
    "Because the proof isn't detailed enough at first sight (in my opinion)\n",
    "\\begin{aligned}\n",
    "    v_\\pi(s) = \\sum_a \\pi(a|s) \\sum_{s',r} p(s',r|s,a) [r + \\gamma v_\\pi(s')]\n",
    "\\end{aligned}"
   ]
  },
  {
   "cell_type": "markdown",
   "metadata": {},
   "source": [
    "Law of total probability and Bayes :\n",
    "\\begin{align*}\n",
    "    \\mathbb{P}(F) &= \\sum_{E_i} \\mathbb{P}(F \\cap E_i) \\\\ \n",
    "    &= \\sum_{E_i}  \\mathbb{P}(F|E_i) \\mathbb{P}(E_i)\n",
    "\\end{align*}\n",
    "which implies, by conditioning by G\n",
    "\\begin{equation}\n",
    "    \\mathbb{P}(F|G)  = \\sum_{E_i} \\mathbb{P}(F|E_i \\cap G) \\mathbb{P}(E_i | G)\n",
    "\\end{equation}"
   ]
  },
  {
   "cell_type": "markdown",
   "metadata": {},
   "source": [
    "Proof :"
   ]
  },
  {
   "cell_type": "markdown",
   "metadata": {},
   "source": [
    "\\begin{aligned}\n",
    "    v_\\pi(s) &:= \\mathbb{E_\\pi} \\Bigr[G_t | S_t=s \\Bigr] \\\\\n",
    "\n",
    "    &= \\mathbb{E}_\\pi \\Bigr[\\sum_{k=0}^{\\infty} \\gamma^k R_{t+k+1} \\ | \\ S_t=s \\Bigr] \\\\\n",
    "\n",
    "    &= \\mathbb{E}_\\pi \\Bigr[ R_{t+1} + \\gamma \\sum_{k=0}^{\\infty} \\gamma^k R_{t+k+2} \\ | \\ S_t = s \\Bigr] \\\\\n",
    "    \n",
    "    (\\text{tower property}) &= \\mathbb{E}_\\pi \\Bigr[ R_{t+1} + \\gamma \\mathbb{E}_\\pi \\bigr[\\sum_{k=0}^{\\infty} \\gamma^k R_{t+k+2} \\ | \\ S_t = s, S_{t+1} \\bigr] \\ | \\ S_t = s \\Bigr] \\\\ \n",
    "\n",
    "    (\\text{Markov property, $S_{t+1}$ encapsulates $S_t$}) &= \\mathbb{E}_\\pi \\Bigr[ R_{t+1} + \\gamma \\mathbb{E}_\\pi \\bigr[\\sum_{k=0}^{\\infty} \\gamma^k R_{t+k+2} \\ | \\ S_{t+1} \\bigr] \\ | \\ S_t = s \\Bigr] \\\\ \n",
    "\n",
    "    (\\text{definition of $v_\\pi(s)$}) &= \\mathbb{E}_\\pi \\Bigr[ R_{t+1} + \\gamma v_\\pi(S_{t+1}) \\ | \\ S_t = s \\Bigr] \\\\ \n",
    "\n",
    "    (\\text{*}) &= \\sum_r \\sum_{s'} \\mathbb{P}(R_{t+1}=r, v_\\pi(S_{t+1}) = v_\\pi(s') \\ | \\ S_t=s) \\Bigr[ r+\\gamma v_\\pi(s') \\Bigr] \\\\\n",
    "\n",
    "    (\\text{Property (1)})&= \\sum_a \\pi(a|s) \\sum_r \\sum_{s'} \\mathbb{P}(R_{t+1}=r, v_\\pi(S_{t+1}) = v_\\pi(s') \\ | \\ S_t=s, A_t=a) \\Bigr[ r+\\gamma v_\\pi(s') \\Bigr] \\\\\n",
    "    \n",
    "    v_\\pi(s) &= \\sum_a \\pi(a|s) \\sum_r \\sum_{s'} p(s',r|s,a) \\Bigr[ r+\\gamma v_\\pi(s') \\Bigr] \n",
    "\\end{aligned}"
   ]
  },
  {
   "cell_type": "markdown",
   "metadata": {},
   "source": [
    "(*) definition of the expectation : sum of the values taken by the random variables weighted by their probabilities of taking those variables"
   ]
  },
  {
   "cell_type": "markdown",
   "metadata": {},
   "source": [
    "### Bellman equation for state-action value :"
   ]
  },
  {
   "cell_type": "markdown",
   "metadata": {},
   "source": [
    "\\begin{aligned}\n",
    "    q_\\pi(s,a) &:= \\mathbb{E_\\pi} \\Bigr[ G_t \\ | \\ S_t=s, A_t=a \\Bigr] \\\\\n",
    "    &= \\mathbb{E}_\\pi \\Bigr[R_{t+1} + \\gamma \\sum_{k=0}^{\\infty} \\gamma^k R_{t+k+2} \\ | \\ S_t=s, A_t=a \\Bigr] \\\\\n",
    "    (\\text{tower property + Markov}) &= \\mathbb{E}_\\pi \\Bigr[ R_{t+1} + \\gamma \\mathbb{E}_\\pi \\bigr[\\sum_{k=0}^{\\infty} \\gamma^k R_{t+k+2} \\ | \\ A_{t+1}, S_{t+1} \\bigr] \\ | \\ S_t = s, A_t=a\\Bigr] \\\\ \n",
    "    &= \\mathbb{E}_\\pi \\Bigr[ R_{t+1} + \\gamma q_\\pi(S_{t+1},A_{t+1}) \\ | \\ S_t = s, A_t=a \\Bigr] \\\\ \n",
    "    &= \\sum_{s',r,a'} \\mathbb{P}(R_{t+1} = r, q_\\pi(S_{t+1},A_{t+1}) = q_\\pi(s',a') \\bigr| S_t=s, A_t=a) \\Bigr[ r+\\gamma q_\\pi(s',a') \\Bigr] \\\\\n",
    "    &= \\sum_{s',r,a'} \\mathbb{P}(S_{t+1} = s', R_{t+1} = r, A_{t+1} = a' \\bigr| S_t=s,A_t=a) \\Bigr[ r+\\gamma q_\\pi(s',a') \\Bigr] \\\\\n",
    "    (\\text{*}) &= \\sum_{s',r} \\sum_{a'} \\mathbb{P}(A_{t+1}=a' \\bigr| S_{t+1}=s',R_{t+1}=r) \\ \\mathbb{P}(S_{t+1} = s', R_{t+1} = r \\bigr| S_t=s,A_t=a) \\Bigr[ r+\\gamma q_\\pi(s',a') \\Bigr] \\\\\n",
    "    q_\\pi(s,a) &= \\sum_{s',r} p(s',r|s,a) \\sum_{a'} \\pi(a'|s') \\Bigr[ r+\\gamma q_\\pi(s',a') \\Bigr]\n",
    "\\end{aligned}\n",
    "\n",
    "(*) is obtained using property (1) with : \n",
    "- $G$ is the event $\\{S_t=s,A_t=a \\}$\n",
    "- $E_i$ is the event $\\{S_{t+1} = s', R_{t+1} = r \\}$\n",
    "- $F$ is the event $\\{A_{t+1} = a' \\}$"
   ]
  }
 ],
 "metadata": {
  "language_info": {
   "name": "python"
  }
 },
 "nbformat": 4,
 "nbformat_minor": 2
}
